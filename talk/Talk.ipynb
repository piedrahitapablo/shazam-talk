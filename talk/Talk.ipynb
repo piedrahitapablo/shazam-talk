{
 "cells": [
  {
   "cell_type": "code",
   "execution_count": null,
   "id": "9bec232c",
   "metadata": {
    "scrolled": false
   },
   "outputs": [],
   "source": [
    "%matplotlib notebook\n",
    "\n",
    "import ipywidgets as widgets\n",
    "import matplotlib.pyplot as plt\n",
    "import numpy as np\n",
    "from scipy import signal\n",
    "\n",
    "from utils.plot import graph_w_widgets\n",
    "from utils.math import sampling_times, superposed_waves, wave, whittaker_shannon\n",
    "\n",
    "# set the default figure size for plots\n",
    "plt.rcParams[\"figure.figsize\"] = (8, 4.5)\n",
    "\n",
    "# some constants\n",
    "TIME_0 = 0\n",
    "TIME_1 = 10\n",
    "N = 5000\n",
    "TIME = np.linspace(TIME_0, TIME_1, N)"
   ]
  },
  {
   "cell_type": "markdown",
   "id": "7f05fa76",
   "metadata": {},
   "source": [
    "# How can we describe a sound wave?\n",
    "\n",
    "$$\\Large a(t) = A\\sin(2 \\pi f t)$$\n",
    "\n",
    "where:\n",
    "\n",
    "- $a(t)$ is the amplitude in a given moment of time $t$\n",
    "- $A$ is the maximum amplitude of the wave\n",
    "- $f$ is the frequency of the wave\n",
    "- $t$ is a given moment in time"
   ]
  },
  {
   "cell_type": "code",
   "execution_count": null,
   "id": "2d9d994c",
   "metadata": {
    "scrolled": false
   },
   "outputs": [],
   "source": [
    "def on_update(fig, lines, amp, freq):\n",
    "    lines[0].set_ydata(wave(TIME, amp, freq))\n",
    "    fig.canvas.draw_idle()\n",
    "\n",
    "graph_w_widgets(\n",
    "    graph={\n",
    "        \"lines\": [\n",
    "            {\"x\": TIME, \"y\": wave(TIME, 5, 0.5), \"color\": \"blue\", \"lw\": 2},\n",
    "        ],\n",
    "        \"x_label\": \"Time [s]\",\n",
    "        \"y_label\": \"Amplitude\",\n",
    "        \"y_lims\": [-6, 6],\n",
    "    },\n",
    "    widgets=[\n",
    "        {\n",
    "            \"amp\": widgets.FloatSlider(\n",
    "                value=5,\n",
    "                min=0,\n",
    "                max=5,\n",
    "                step=0.5,\n",
    "                orientation=\"vertical\",\n",
    "                description=r\"$A$\",\n",
    "            ),\n",
    "        },\n",
    "        {\n",
    "            \"freq\": widgets.FloatSlider(\n",
    "                value=0.5,\n",
    "                min=0,\n",
    "                max=5,\n",
    "                step=0.5,\n",
    "                orientation=\"vertical\",\n",
    "                description=r\"$f$\",\n",
    "            ),\n",
    "        },\n",
    "    ],\n",
    "    on_update=on_update,\n",
    ")"
   ]
  },
  {
   "cell_type": "markdown",
   "id": "22b338e4",
   "metadata": {},
   "source": [
    "# Wave superposition\n",
    "\n",
    "The principle of superposition can be applied to 2 or more waves travelling through the same medium at the same time. Each wave passes without disturbing the others, so the net displacement is given by:\n",
    "\n",
    "$$\\Large a(t) = A_1\\sin(2 \\pi f_1 t) + A_2\\sin(2 \\pi f_2 t) + A_3\\sin(2 \\pi f_3 t) + \\ldots$$"
   ]
  },
  {
   "cell_type": "code",
   "execution_count": null,
   "id": "2fc25c50",
   "metadata": {
    "scrolled": false
   },
   "outputs": [],
   "source": [
    "def parse(waves):\n",
    "    lines = waves.split(\"\\n\")\n",
    "    result = []\n",
    "    for line in lines:\n",
    "        a, f = line.split(\",\")\n",
    "        result.append((float(a), float(f)))\n",
    "    \n",
    "    return result\n",
    "\n",
    "def on_update(fig, lines, waves):\n",
    "    lines[0].set_ydata(superposed_waves(TIME, parse(waves)))\n",
    "    fig.canvas.draw_idle()\n",
    "\n",
    "graph_w_widgets(\n",
    "    graph={\n",
    "        \"lines\": [\n",
    "            {\"x\": TIME, \"y\": superposed_waves(TIME, [(1, 1)]), \"color\": \"blue\", \"lw\": 2},\n",
    "        ],\n",
    "        \"x_label\": \"Time [s]\",\n",
    "        \"y_label\": \"Amplitude\",\n",
    "        \"y_lims\": [-6, 6],\n",
    "    },\n",
    "    widgets=[\n",
    "        {\n",
    "            \"waves\": widgets.Textarea(\n",
    "                value=\"1, 1\\n\",\n",
    "                placeholder=\"Enter some waves parameters\",\n",
    "                description=\"Waves\",\n",
    "                layout=widgets.Layout(width=\"145px\", height=\"150px\")\n",
    "            ),\n",
    "        },\n",
    "    ],\n",
    "    on_update=on_update,\n",
    ")"
   ]
  },
  {
   "cell_type": "markdown",
   "id": "3a37a88b",
   "metadata": {},
   "source": [
    "# Sampling\n",
    "\n",
    "Sound is a continuos signal, but that does not work well in the digital world, so it needs to be converted into a discrete signal. Using a process known as sampling, we split the signal into very small chunks and then perform something called quantization."
   ]
  },
  {
   "cell_type": "markdown",
   "id": "2d88c2b5",
   "metadata": {},
   "source": [
    "# Nyquist-Shannon theorem\n",
    "\n",
    "> If a function $a(t)$ contains no frequencies higher than $F$ hertz, it is completely determined by giving its ordinates at a series of points spaced $1 / (2F)$ or seconds apart.\n",
    "\n",
    "This theorem can be interpreted in two ways:\n",
    "\n",
    "- Having $2F$ samples per second is enough to sample a continous signal with frequency $F$\n",
    "- A sample rate $f_s$ guarantees perfect reconstruction for continous signals with $f < f_s / 2$"
   ]
  },
  {
   "cell_type": "code",
   "execution_count": null,
   "id": "10889bbc",
   "metadata": {
    "scrolled": false
   },
   "outputs": [],
   "source": [
    "def build_wave(time, use_superposition):\n",
    "    if use_superposition:\n",
    "        return superposed_waves(time, [(1, 1), (0.8, 1.7), (0.5, 2)])\n",
    "    \n",
    "    return wave(time, 1, 1)\n",
    "\n",
    "def on_update(fig, lines, sampling_freq, show_rec, use_superposition):\n",
    "    s_times = sampling_times(TIME_0, TIME_1, sampling_freq)\n",
    "    samples = build_wave(s_times, use_superposition)\n",
    "    \n",
    "    lines[0].set_ydata(build_wave(TIME, use_superposition))\n",
    "    lines[1].set_ydata(whittaker_shannon(TIME, samples, s_times))\n",
    "    lines[2].set_xdata(s_times)\n",
    "    lines[2].set_ydata(samples)\n",
    "    \n",
    "    if show_rec:\n",
    "        lines[1].set_linestyle(\"-\")\n",
    "        lines[2].set_color(\"black\")\n",
    "    else:\n",
    "        lines[1].set_linestyle(\"\")\n",
    "        lines[2].set_color(\"red\")\n",
    "        \n",
    "    fig.canvas.draw_idle()\n",
    "    \n",
    "s_times = sampling_times(TIME_0, TIME_1, 0.1)\n",
    "samples = build_wave(s_times, False)\n",
    "graph_w_widgets(\n",
    "    graph={\n",
    "        \"lines\": [\n",
    "            {\"x\": TIME, \"y\": build_wave(TIME, False), \"color\": \"gray\", \"lw\": 2},\n",
    "            {\"x\": TIME, \"y\": whittaker_shannon(TIME, samples, s_times), \"color\": \"red\", \"linestyle\": \"\", \"lw\": \"2\"},\n",
    "            {\"x\": s_times, \"y\": samples, \"color\": \"red\", \"linestyle\": \"\", \"marker\": \"o\"},\n",
    "        ],\n",
    "        \"x_label\": \"Time [s]\",\n",
    "        \"y_label\": \"Amplitude\",\n",
    "        \"y_lims\": [-2.5, 2.5],\n",
    "    },\n",
    "    widgets=[\n",
    "        {\n",
    "            \"use_superposition\": widgets.Checkbox(\n",
    "                value=False,\n",
    "                description=\"Superposition\",\n",
    "                disabled=False,\n",
    "                indent=False,\n",
    "                layout=widgets.Layout(width=\"145px\")\n",
    "            ),\n",
    "            \"show_rec\": widgets.Checkbox(\n",
    "                value=False,\n",
    "                description=\"Show reconstruction\",\n",
    "                disabled=False,\n",
    "                indent=False,\n",
    "                layout=widgets.Layout(width=\"145px\")\n",
    "            ),\n",
    "            \"sampling_freq\": widgets.FloatSlider(\n",
    "                min=0.1,\n",
    "                max=15,\n",
    "                step=0.1,\n",
    "                orientation=\"vertical\",\n",
    "                description=\"Sampling frequency\",\n",
    "            ),\n",
    "        },\n",
    "    ],\n",
    "    on_update=on_update,\n",
    ")"
   ]
  }
 ],
 "metadata": {
  "interpreter": {
   "hash": "55a253b62554d83bca20f11a192364056bbaea668984a33304a7af5bf1e00d5c"
  },
  "kernelspec": {
   "display_name": "Python 3 (ipykernel)",
   "language": "python",
   "name": "python3"
  },
  "language_info": {
   "codemirror_mode": {
    "name": "ipython",
    "version": 3
   },
   "file_extension": ".py",
   "mimetype": "text/x-python",
   "name": "python",
   "nbconvert_exporter": "python",
   "pygments_lexer": "ipython3",
   "version": "3.8.6"
  }
 },
 "nbformat": 4,
 "nbformat_minor": 5
}
