{
 "cells": [
  {
   "cell_type": "code",
   "execution_count": null,
   "id": "9bec232c",
   "metadata": {
    "scrolled": false
   },
   "outputs": [],
   "source": [
    "%matplotlib notebook\n",
    "\n",
    "%load_ext autoreload\n",
    "%autoreload 2"
   ]
  },
  {
   "cell_type": "markdown",
   "id": "7f05fa76",
   "metadata": {},
   "source": [
    "# How can we describe a sound wave?\n",
    "\n",
    "$$\\Large a(t) = A\\sin(2 \\pi f t)$$\n",
    "\n",
    "where:\n",
    "\n",
    "- $a(t)$ is the amplitude in a given moment of time $t$\n",
    "- $A$ is the maximum amplitude of the wave\n",
    "- $f$ is the frequency of the wave\n",
    "- $T$ is the period, given by $T = 1/f$"
   ]
  },
  {
   "cell_type": "code",
   "execution_count": null,
   "id": "2d9d994c",
   "metadata": {
    "scrolled": false
   },
   "outputs": [],
   "source": [
    "from talk.slides.waves import WavesSlide\n",
    "\n",
    "slide = WavesSlide()\n",
    "slide.render()"
   ]
  },
  {
   "cell_type": "markdown",
   "id": "53493bbf",
   "metadata": {},
   "source": [
    "# Wave superposition\n",
    "\n",
    "The principle of superposition can be applied to 2 or more waves travelling through the same medium at the same time. Each wave passes without disturbing the others, so the net displacement is given by:\n",
    "\n",
    "$$\\Large a(t) = A_1\\sin(2 \\pi f_1 t) + A_2\\sin(2 \\pi f_2 t) + A_3\\sin(2 \\pi f_3 t) + \\ldots$$"
   ]
  },
  {
   "cell_type": "code",
   "execution_count": null,
   "id": "b2aa5ba9",
   "metadata": {
    "scrolled": false
   },
   "outputs": [],
   "source": [
    "from talk.slides.superposition import SuperpositionSlide\n",
    "\n",
    "slide = SuperpositionSlide()\n",
    "slide.render()"
   ]
  },
  {
   "cell_type": "markdown",
   "id": "91e17261",
   "metadata": {},
   "source": [
    "# Sampling\n",
    "\n",
    "Sound is a continuos signal, but that does not work well in the digital world, so it needs to be converted into a discrete signal. Using a process known as sampling, the signal is splitted into small chunks and then perform something called quantization."
   ]
  },
  {
   "cell_type": "markdown",
   "id": "ec0bf905",
   "metadata": {},
   "source": [
    "# Nyquist-Shannon theorem\n",
    "\n",
    "> If a function $a(t)$ contains no frequencies higher than $F$ hertz, it is completely determined by giving its ordinates at a series of points spaced $1 / (2F)$ or seconds apart.\n",
    "\n",
    "This theorem can be interpreted in two ways:\n",
    "\n",
    "- Having $2F$ samples per second is enough to sample a continous signal with frequency $F$\n",
    "- A sample rate $f_s$ guarantees perfect reconstruction for continous signals with $f < f_s / 2$"
   ]
  },
  {
   "cell_type": "markdown",
   "id": "cf2dd2c8",
   "metadata": {},
   "source": [
    "# Reconstruction\n",
    "\n",
    "$$\\Large a(t) = \\sum_{n=-\\infty}^{\\infty} a(nT_s) \\, \\operatorname{sinc}\\left(\\frac{t - nT_s}{T_s}\\right)$$\n",
    "\n",
    "where\n",
    "\n",
    "$$\\Large \\operatorname{sinc}(x) = \\frac{\\sin(\\pi x)}{x}$$"
   ]
  },
  {
   "cell_type": "code",
   "execution_count": null,
   "id": "64167e93",
   "metadata": {
    "scrolled": false
   },
   "outputs": [],
   "source": [
    "from talk.slides.sampling import SamplingSlide\n",
    "\n",
    "slide = SamplingSlide()\n",
    "slide.render()"
   ]
  }
 ],
 "metadata": {
  "interpreter": {
   "hash": "55a253b62554d83bca20f11a192364056bbaea668984a33304a7af5bf1e00d5c"
  },
  "kernelspec": {
   "display_name": "Python 3 (ipykernel)",
   "language": "python",
   "name": "python3"
  },
  "language_info": {
   "codemirror_mode": {
    "name": "ipython",
    "version": 3
   },
   "file_extension": ".py",
   "mimetype": "text/x-python",
   "name": "python",
   "nbconvert_exporter": "python",
   "pygments_lexer": "ipython3",
   "version": "3.8.6"
  }
 },
 "nbformat": 4,
 "nbformat_minor": 5
}
